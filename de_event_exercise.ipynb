{
  "cells": [
    {
      "cell_type": "markdown",
      "metadata": {
        "id": "vY_dL3RdzK4K"
      },
      "source": [
        "# Data Engineering Event | Created by Jordan Larot"
      ]
    },
    {
      "cell_type": "markdown",
      "metadata": {
        "id": "Ds3A7X18qm1q"
      },
      "source": [
        "## Install libraries"
      ]
    },
    {
      "cell_type": "code",
      "execution_count": null,
      "metadata": {
        "id": "mir_TKTsdvqN",
        "colab": {
          "base_uri": "https://localhost:8080/"
        },
        "outputId": "1efe97ce-9f1a-4c59-c186-87e375c83463"
      },
      "outputs": [
        {
          "output_type": "stream",
          "name": "stdout",
          "text": [
            "Looking in indexes: https://pypi.org/simple, https://us-python.pkg.dev/colab-wheels/public/simple/\n",
            "Requirement already satisfied: pandas in /usr/local/lib/python3.10/dist-packages (1.5.3)\n",
            "Requirement already satisfied: lxml in /usr/local/lib/python3.10/dist-packages (4.9.2)\n",
            "Requirement already satisfied: python-dateutil>=2.8.1 in /usr/local/lib/python3.10/dist-packages (from pandas) (2.8.2)\n",
            "Requirement already satisfied: pytz>=2020.1 in /usr/local/lib/python3.10/dist-packages (from pandas) (2022.7.1)\n",
            "Requirement already satisfied: numpy>=1.21.0 in /usr/local/lib/python3.10/dist-packages (from pandas) (1.22.4)\n",
            "Requirement already satisfied: six>=1.5 in /usr/local/lib/python3.10/dist-packages (from python-dateutil>=2.8.1->pandas) (1.16.0)\n"
          ]
        }
      ],
      "source": [
        "!pip install pandas lxml"
      ]
    },
    {
      "cell_type": "markdown",
      "metadata": {
        "id": "fnchdlJu68fn"
      },
      "source": [
        "# Exercise 1: Data Engineering"
      ]
    },
    {
      "cell_type": "markdown",
      "metadata": {
        "id": "ccVDqKLjqezG"
      },
      "source": [
        "## Data Extraction"
      ]
    },
    {
      "cell_type": "code",
      "execution_count": null,
      "metadata": {
        "id": "6wW6QAt1iITo",
        "colab": {
          "base_uri": "https://localhost:8080/",
          "height": 268
        },
        "outputId": "88c43ed0-28ef-496d-9028-e4b89bd4df28"
      },
      "outputs": [
        {
          "output_type": "execute_result",
          "data": {
            "text/plain": [
              "   # Country (or dependency)  Population  (2020) Yearly  Change  Net  Change  \\\n",
              "0  1                   China          1439323776         0.39 %      5540090   \n",
              "1  2                   India          1380004385         0.99 %     13586631   \n",
              "2  3           United States           331002651         0.59 %      1937734   \n",
              "3  4               Indonesia           273523615         1.07 %      2898047   \n",
              "4  5                Pakistan           220892340         2.00 %      4327022   \n",
              "\n",
              "   Density  (P/Km²)  Land Area  (Km²)  Migrants  (net) Fert.  Rate Med.  Age  \\\n",
              "0               153           9388211        -348399.0         1.7        38   \n",
              "1               464           2973190        -532687.0         2.2        28   \n",
              "2                36           9147420         954806.0         1.8        38   \n",
              "3               151           1811570         -98955.0         2.3        30   \n",
              "4               287            770880        -233379.0         3.6        23   \n",
              "\n",
              "  Urban  Pop % World  Share  \n",
              "0         61 %      18.47 %  \n",
              "1         35 %      17.70 %  \n",
              "2         83 %       4.25 %  \n",
              "3         56 %       3.51 %  \n",
              "4         35 %       2.83 %  "
            ],
            "text/html": [
              "\n",
              "  <div id=\"df-947eac46-8d10-4f81-95ea-ab864990d04f\">\n",
              "    <div class=\"colab-df-container\">\n",
              "      <div>\n",
              "<style scoped>\n",
              "    .dataframe tbody tr th:only-of-type {\n",
              "        vertical-align: middle;\n",
              "    }\n",
              "\n",
              "    .dataframe tbody tr th {\n",
              "        vertical-align: top;\n",
              "    }\n",
              "\n",
              "    .dataframe thead th {\n",
              "        text-align: right;\n",
              "    }\n",
              "</style>\n",
              "<table border=\"1\" class=\"dataframe\">\n",
              "  <thead>\n",
              "    <tr style=\"text-align: right;\">\n",
              "      <th></th>\n",
              "      <th>#</th>\n",
              "      <th>Country (or dependency)</th>\n",
              "      <th>Population  (2020)</th>\n",
              "      <th>Yearly  Change</th>\n",
              "      <th>Net  Change</th>\n",
              "      <th>Density  (P/Km²)</th>\n",
              "      <th>Land Area  (Km²)</th>\n",
              "      <th>Migrants  (net)</th>\n",
              "      <th>Fert.  Rate</th>\n",
              "      <th>Med.  Age</th>\n",
              "      <th>Urban  Pop %</th>\n",
              "      <th>World  Share</th>\n",
              "    </tr>\n",
              "  </thead>\n",
              "  <tbody>\n",
              "    <tr>\n",
              "      <th>0</th>\n",
              "      <td>1</td>\n",
              "      <td>China</td>\n",
              "      <td>1439323776</td>\n",
              "      <td>0.39 %</td>\n",
              "      <td>5540090</td>\n",
              "      <td>153</td>\n",
              "      <td>9388211</td>\n",
              "      <td>-348399.0</td>\n",
              "      <td>1.7</td>\n",
              "      <td>38</td>\n",
              "      <td>61 %</td>\n",
              "      <td>18.47 %</td>\n",
              "    </tr>\n",
              "    <tr>\n",
              "      <th>1</th>\n",
              "      <td>2</td>\n",
              "      <td>India</td>\n",
              "      <td>1380004385</td>\n",
              "      <td>0.99 %</td>\n",
              "      <td>13586631</td>\n",
              "      <td>464</td>\n",
              "      <td>2973190</td>\n",
              "      <td>-532687.0</td>\n",
              "      <td>2.2</td>\n",
              "      <td>28</td>\n",
              "      <td>35 %</td>\n",
              "      <td>17.70 %</td>\n",
              "    </tr>\n",
              "    <tr>\n",
              "      <th>2</th>\n",
              "      <td>3</td>\n",
              "      <td>United States</td>\n",
              "      <td>331002651</td>\n",
              "      <td>0.59 %</td>\n",
              "      <td>1937734</td>\n",
              "      <td>36</td>\n",
              "      <td>9147420</td>\n",
              "      <td>954806.0</td>\n",
              "      <td>1.8</td>\n",
              "      <td>38</td>\n",
              "      <td>83 %</td>\n",
              "      <td>4.25 %</td>\n",
              "    </tr>\n",
              "    <tr>\n",
              "      <th>3</th>\n",
              "      <td>4</td>\n",
              "      <td>Indonesia</td>\n",
              "      <td>273523615</td>\n",
              "      <td>1.07 %</td>\n",
              "      <td>2898047</td>\n",
              "      <td>151</td>\n",
              "      <td>1811570</td>\n",
              "      <td>-98955.0</td>\n",
              "      <td>2.3</td>\n",
              "      <td>30</td>\n",
              "      <td>56 %</td>\n",
              "      <td>3.51 %</td>\n",
              "    </tr>\n",
              "    <tr>\n",
              "      <th>4</th>\n",
              "      <td>5</td>\n",
              "      <td>Pakistan</td>\n",
              "      <td>220892340</td>\n",
              "      <td>2.00 %</td>\n",
              "      <td>4327022</td>\n",
              "      <td>287</td>\n",
              "      <td>770880</td>\n",
              "      <td>-233379.0</td>\n",
              "      <td>3.6</td>\n",
              "      <td>23</td>\n",
              "      <td>35 %</td>\n",
              "      <td>2.83 %</td>\n",
              "    </tr>\n",
              "  </tbody>\n",
              "</table>\n",
              "</div>\n",
              "      <button class=\"colab-df-convert\" onclick=\"convertToInteractive('df-947eac46-8d10-4f81-95ea-ab864990d04f')\"\n",
              "              title=\"Convert this dataframe to an interactive table.\"\n",
              "              style=\"display:none;\">\n",
              "        \n",
              "  <svg xmlns=\"http://www.w3.org/2000/svg\" height=\"24px\"viewBox=\"0 0 24 24\"\n",
              "       width=\"24px\">\n",
              "    <path d=\"M0 0h24v24H0V0z\" fill=\"none\"/>\n",
              "    <path d=\"M18.56 5.44l.94 2.06.94-2.06 2.06-.94-2.06-.94-.94-2.06-.94 2.06-2.06.94zm-11 1L8.5 8.5l.94-2.06 2.06-.94-2.06-.94L8.5 2.5l-.94 2.06-2.06.94zm10 10l.94 2.06.94-2.06 2.06-.94-2.06-.94-.94-2.06-.94 2.06-2.06.94z\"/><path d=\"M17.41 7.96l-1.37-1.37c-.4-.4-.92-.59-1.43-.59-.52 0-1.04.2-1.43.59L10.3 9.45l-7.72 7.72c-.78.78-.78 2.05 0 2.83L4 21.41c.39.39.9.59 1.41.59.51 0 1.02-.2 1.41-.59l7.78-7.78 2.81-2.81c.8-.78.8-2.07 0-2.86zM5.41 20L4 18.59l7.72-7.72 1.47 1.35L5.41 20z\"/>\n",
              "  </svg>\n",
              "      </button>\n",
              "      \n",
              "  <style>\n",
              "    .colab-df-container {\n",
              "      display:flex;\n",
              "      flex-wrap:wrap;\n",
              "      gap: 12px;\n",
              "    }\n",
              "\n",
              "    .colab-df-convert {\n",
              "      background-color: #E8F0FE;\n",
              "      border: none;\n",
              "      border-radius: 50%;\n",
              "      cursor: pointer;\n",
              "      display: none;\n",
              "      fill: #1967D2;\n",
              "      height: 32px;\n",
              "      padding: 0 0 0 0;\n",
              "      width: 32px;\n",
              "    }\n",
              "\n",
              "    .colab-df-convert:hover {\n",
              "      background-color: #E2EBFA;\n",
              "      box-shadow: 0px 1px 2px rgba(60, 64, 67, 0.3), 0px 1px 3px 1px rgba(60, 64, 67, 0.15);\n",
              "      fill: #174EA6;\n",
              "    }\n",
              "\n",
              "    [theme=dark] .colab-df-convert {\n",
              "      background-color: #3B4455;\n",
              "      fill: #D2E3FC;\n",
              "    }\n",
              "\n",
              "    [theme=dark] .colab-df-convert:hover {\n",
              "      background-color: #434B5C;\n",
              "      box-shadow: 0px 1px 3px 1px rgba(0, 0, 0, 0.15);\n",
              "      filter: drop-shadow(0px 1px 2px rgba(0, 0, 0, 0.3));\n",
              "      fill: #FFFFFF;\n",
              "    }\n",
              "  </style>\n",
              "\n",
              "      <script>\n",
              "        const buttonEl =\n",
              "          document.querySelector('#df-947eac46-8d10-4f81-95ea-ab864990d04f button.colab-df-convert');\n",
              "        buttonEl.style.display =\n",
              "          google.colab.kernel.accessAllowed ? 'block' : 'none';\n",
              "\n",
              "        async function convertToInteractive(key) {\n",
              "          const element = document.querySelector('#df-947eac46-8d10-4f81-95ea-ab864990d04f');\n",
              "          const dataTable =\n",
              "            await google.colab.kernel.invokeFunction('convertToInteractive',\n",
              "                                                     [key], {});\n",
              "          if (!dataTable) return;\n",
              "\n",
              "          const docLinkHtml = 'Like what you see? Visit the ' +\n",
              "            '<a target=\"_blank\" href=https://colab.research.google.com/notebooks/data_table.ipynb>data table notebook</a>'\n",
              "            + ' to learn more about interactive tables.';\n",
              "          element.innerHTML = '';\n",
              "          dataTable['output_type'] = 'display_data';\n",
              "          await google.colab.output.renderOutput(dataTable, element);\n",
              "          const docLink = document.createElement('div');\n",
              "          docLink.innerHTML = docLinkHtml;\n",
              "          element.appendChild(docLink);\n",
              "        }\n",
              "      </script>\n",
              "    </div>\n",
              "  </div>\n",
              "  "
            ]
          },
          "metadata": {},
          "execution_count": 3
        }
      ],
      "source": [
        "# Import pandas\n",
        "import pandas as pd\n",
        "\n",
        "# Specify url\n",
        "url = 'https://www.worldometers.info/world-population/population-by-country/'\n",
        "\n",
        "# Scrape website\n",
        "tables = pd.read_html(url) ##### fill in blank\n",
        "\n",
        "# Select the first element of tables\n",
        "df = tables[0]\n",
        "\n",
        "# Preview raw data\n",
        "df.head()"
      ]
    },
    {
      "cell_type": "markdown",
      "metadata": {
        "id": "8Y-TnrlVq49R"
      },
      "source": [
        "## Data Preparation"
      ]
    },
    {
      "cell_type": "code",
      "execution_count": null,
      "metadata": {
        "id": "wJAyOQMAkCGO",
        "colab": {
          "base_uri": "https://localhost:8080/",
          "height": 238
        },
        "outputId": "0e944574-318b-4536-cc1c-c0dc5a4cf20f"
      },
      "outputs": [
        {
          "output_type": "execute_result",
          "data": {
            "text/plain": [
              "               population median_age\n",
              "country                             \n",
              "China          1439323776         38\n",
              "India          1380004385         28\n",
              "United States   331002651         38\n",
              "Indonesia       273523615         30\n",
              "Pakistan        220892340         23"
            ],
            "text/html": [
              "\n",
              "  <div id=\"df-33c32f6d-402b-4ca5-b933-52a12c946529\">\n",
              "    <div class=\"colab-df-container\">\n",
              "      <div>\n",
              "<style scoped>\n",
              "    .dataframe tbody tr th:only-of-type {\n",
              "        vertical-align: middle;\n",
              "    }\n",
              "\n",
              "    .dataframe tbody tr th {\n",
              "        vertical-align: top;\n",
              "    }\n",
              "\n",
              "    .dataframe thead th {\n",
              "        text-align: right;\n",
              "    }\n",
              "</style>\n",
              "<table border=\"1\" class=\"dataframe\">\n",
              "  <thead>\n",
              "    <tr style=\"text-align: right;\">\n",
              "      <th></th>\n",
              "      <th>population</th>\n",
              "      <th>median_age</th>\n",
              "    </tr>\n",
              "    <tr>\n",
              "      <th>country</th>\n",
              "      <th></th>\n",
              "      <th></th>\n",
              "    </tr>\n",
              "  </thead>\n",
              "  <tbody>\n",
              "    <tr>\n",
              "      <th>China</th>\n",
              "      <td>1439323776</td>\n",
              "      <td>38</td>\n",
              "    </tr>\n",
              "    <tr>\n",
              "      <th>India</th>\n",
              "      <td>1380004385</td>\n",
              "      <td>28</td>\n",
              "    </tr>\n",
              "    <tr>\n",
              "      <th>United States</th>\n",
              "      <td>331002651</td>\n",
              "      <td>38</td>\n",
              "    </tr>\n",
              "    <tr>\n",
              "      <th>Indonesia</th>\n",
              "      <td>273523615</td>\n",
              "      <td>30</td>\n",
              "    </tr>\n",
              "    <tr>\n",
              "      <th>Pakistan</th>\n",
              "      <td>220892340</td>\n",
              "      <td>23</td>\n",
              "    </tr>\n",
              "  </tbody>\n",
              "</table>\n",
              "</div>\n",
              "      <button class=\"colab-df-convert\" onclick=\"convertToInteractive('df-33c32f6d-402b-4ca5-b933-52a12c946529')\"\n",
              "              title=\"Convert this dataframe to an interactive table.\"\n",
              "              style=\"display:none;\">\n",
              "        \n",
              "  <svg xmlns=\"http://www.w3.org/2000/svg\" height=\"24px\"viewBox=\"0 0 24 24\"\n",
              "       width=\"24px\">\n",
              "    <path d=\"M0 0h24v24H0V0z\" fill=\"none\"/>\n",
              "    <path d=\"M18.56 5.44l.94 2.06.94-2.06 2.06-.94-2.06-.94-.94-2.06-.94 2.06-2.06.94zm-11 1L8.5 8.5l.94-2.06 2.06-.94-2.06-.94L8.5 2.5l-.94 2.06-2.06.94zm10 10l.94 2.06.94-2.06 2.06-.94-2.06-.94-.94-2.06-.94 2.06-2.06.94z\"/><path d=\"M17.41 7.96l-1.37-1.37c-.4-.4-.92-.59-1.43-.59-.52 0-1.04.2-1.43.59L10.3 9.45l-7.72 7.72c-.78.78-.78 2.05 0 2.83L4 21.41c.39.39.9.59 1.41.59.51 0 1.02-.2 1.41-.59l7.78-7.78 2.81-2.81c.8-.78.8-2.07 0-2.86zM5.41 20L4 18.59l7.72-7.72 1.47 1.35L5.41 20z\"/>\n",
              "  </svg>\n",
              "      </button>\n",
              "      \n",
              "  <style>\n",
              "    .colab-df-container {\n",
              "      display:flex;\n",
              "      flex-wrap:wrap;\n",
              "      gap: 12px;\n",
              "    }\n",
              "\n",
              "    .colab-df-convert {\n",
              "      background-color: #E8F0FE;\n",
              "      border: none;\n",
              "      border-radius: 50%;\n",
              "      cursor: pointer;\n",
              "      display: none;\n",
              "      fill: #1967D2;\n",
              "      height: 32px;\n",
              "      padding: 0 0 0 0;\n",
              "      width: 32px;\n",
              "    }\n",
              "\n",
              "    .colab-df-convert:hover {\n",
              "      background-color: #E2EBFA;\n",
              "      box-shadow: 0px 1px 2px rgba(60, 64, 67, 0.3), 0px 1px 3px 1px rgba(60, 64, 67, 0.15);\n",
              "      fill: #174EA6;\n",
              "    }\n",
              "\n",
              "    [theme=dark] .colab-df-convert {\n",
              "      background-color: #3B4455;\n",
              "      fill: #D2E3FC;\n",
              "    }\n",
              "\n",
              "    [theme=dark] .colab-df-convert:hover {\n",
              "      background-color: #434B5C;\n",
              "      box-shadow: 0px 1px 3px 1px rgba(0, 0, 0, 0.15);\n",
              "      filter: drop-shadow(0px 1px 2px rgba(0, 0, 0, 0.3));\n",
              "      fill: #FFFFFF;\n",
              "    }\n",
              "  </style>\n",
              "\n",
              "      <script>\n",
              "        const buttonEl =\n",
              "          document.querySelector('#df-33c32f6d-402b-4ca5-b933-52a12c946529 button.colab-df-convert');\n",
              "        buttonEl.style.display =\n",
              "          google.colab.kernel.accessAllowed ? 'block' : 'none';\n",
              "\n",
              "        async function convertToInteractive(key) {\n",
              "          const element = document.querySelector('#df-33c32f6d-402b-4ca5-b933-52a12c946529');\n",
              "          const dataTable =\n",
              "            await google.colab.kernel.invokeFunction('convertToInteractive',\n",
              "                                                     [key], {});\n",
              "          if (!dataTable) return;\n",
              "\n",
              "          const docLinkHtml = 'Like what you see? Visit the ' +\n",
              "            '<a target=\"_blank\" href=https://colab.research.google.com/notebooks/data_table.ipynb>data table notebook</a>'\n",
              "            + ' to learn more about interactive tables.';\n",
              "          element.innerHTML = '';\n",
              "          dataTable['output_type'] = 'display_data';\n",
              "          await google.colab.output.renderOutput(dataTable, element);\n",
              "          const docLink = document.createElement('div');\n",
              "          docLink.innerHTML = docLinkHtml;\n",
              "          element.appendChild(docLink);\n",
              "        }\n",
              "      </script>\n",
              "    </div>\n",
              "  </div>\n",
              "  "
            ]
          },
          "metadata": {},
          "execution_count": 4
        }
      ],
      "source": [
        "# Rename columns\n",
        "df = df.rename(columns={\n",
        "    'Country (or dependency)': 'country', ##### fill in the blank\n",
        "    'Population  (2020)': 'population',  ##### fill in the blank\n",
        "    'Med.  Age': 'median_age'})\n",
        "\n",
        "# Drop columns\n",
        "df = df.drop(['#',\n",
        "              'Yearly  Change',\n",
        "              'Net  Change',\n",
        "              'Density  (P/Km²)',\n",
        "              'Land Area  (Km²)',\n",
        "              'Migrants  (net)',\n",
        "              'Fert.  Rate',\n",
        "              'Urban  Pop %',\n",
        "              'World  Share'\n",
        "              ],\n",
        "             axis=1)\n",
        "\n",
        "# Remove countries with no median age\n",
        "df = df[df['median_age'] != 'N.A.']\n",
        "\n",
        "# Set index to the country\n",
        "df = df.set_index('country',\n",
        "                  drop=True)\n",
        "\n",
        "# Preview\n",
        "df.head()"
      ]
    },
    {
      "cell_type": "markdown",
      "metadata": {
        "id": "iloytUNbrVmW"
      },
      "source": [
        "## Data Visualization"
      ]
    },
    {
      "cell_type": "code",
      "execution_count": null,
      "metadata": {
        "id": "Og3fp0sWmAr3",
        "colab": {
          "base_uri": "https://localhost:8080/",
          "height": 466
        },
        "outputId": "a11b738f-4624-4b33-a798-b811c9162fe7"
      },
      "outputs": [
        {
          "output_type": "execute_result",
          "data": {
            "text/plain": [
              "<Axes: ylabel='country'>"
            ]
          },
          "metadata": {},
          "execution_count": 5
        },
        {
          "output_type": "display_data",
          "data": {
            "text/plain": [
              "<Figure size 640x480 with 1 Axes>"
            ],
            "image/png": "[encoded data removed]"
          },
          "metadata": {}
        }
      ],
      "source": [
        "##### DO NOT EDIT CODE BELOW\n",
        "\n",
        "# Create dataframe with top 10 countries with the highest population\n",
        "df_10 = df.copy().sort_values('population', ascending=False)[:10]\n",
        "\n",
        "# Sort values by ascending\n",
        "df_10 = df_10.sort_values('population', ascending=True)\n",
        "\n",
        "# Create horizontal bar chart for the countries with the highest population\n",
        "df_10.plot.barh(y='population')\n",
        "\n",
        "##### DO NOT EDIT CODE ABOVE"
      ]
    },
    {
      "cell_type": "markdown",
      "metadata": {
        "id": "ru0D_zovnPqm"
      },
      "source": [
        "### Q1 | From the bar chart above, which country has the highest population?"
      ]
    },
    {
      "cell_type": "code",
      "execution_count": null,
      "metadata": {
        "id": "MXotk1IDnVxR",
        "colab": {
          "base_uri": "https://localhost:8080/"
        },
        "outputId": "bfb6039e-1301-4294-bffa-1260a3e2b897"
      },
      "outputs": [
        {
          "output_type": "stream",
          "name": "stdout",
          "text": [
            "From the bar chart above, which country has the highest population?\n",
            "China\n",
            "\n",
            "Correct!\n"
          ]
        }
      ],
      "source": [
        "# User response\n",
        "user_answer = str(input('From the bar chart above, which country has the highest population?\\n'))\n",
        "\n",
        "if user_answer.lower() == (pd.read_csv('https://raw.githubusercontent.com/jordanlarot/de-event/main/answers.csv').iloc[357, 1]).lower():\n",
        "  print('\\nCorrect!')\n",
        "else:\n",
        "  print('\\nIncorrect!')"
      ]
    },
    {
      "cell_type": "markdown",
      "metadata": {
        "id": "eVkK-hZYuVDi"
      },
      "source": [
        "## Database\n"
      ]
    },
    {
      "cell_type": "markdown",
      "metadata": {
        "id": "2-G9nWB_6SyI"
      },
      "source": [
        "#### Database Creation"
      ]
    },
    {
      "cell_type": "code",
      "execution_count": null,
      "metadata": {
        "id": "Ztpxr37Sr_kL",
        "colab": {
          "base_uri": "https://localhost:8080/"
        },
        "outputId": "3cec7be2-9842-47fb-b7ac-ae6d8ef22bd3"
      },
      "outputs": [
        {
          "name": "stdout",
          "output_type": "stream",
          "text": [
            "Name your database: my_first_db\n"
          ]
        }
      ],
      "source": [
        "# Import library\n",
        "import sqlite3 ##### fill in the blank\n",
        "\n",
        "# Specify database name\n",
        "db_name = input(\"Name your database: \")"
      ]
    },
    {
      "cell_type": "code",
      "source": [
        "# Connect to a new database file (creates a new file if it doesn't exist)\n",
        "conn = sqlite3.connect(f'{db_name}.db') ##### fill in blank\n",
        "\n",
        "# Confirmation message for database creation\n",
        "print(f\"\\nDatabase: {db_name} successfully created.\")\n",
        "\n",
        "# Close connection to the database\n",
        "conn.close()"
      ],
      "metadata": {
        "id": "tKm9N_uuQczp",
        "colab": {
          "base_uri": "https://localhost:8080/"
        },
        "outputId": "cb6525fb-8d28-4d13-8dbd-61a77c9b2eeb"
      },
      "execution_count": null,
      "outputs": [
        {
          "output_type": "stream",
          "name": "stdout",
          "text": [
            "\n",
            "Database: my_first_db successfully created.\n"
          ]
        }
      ]
    },
    {
      "cell_type": "markdown",
      "metadata": {
        "id": "dxTzBIm4uhXT"
      },
      "source": [
        "#### Creating Tables"
      ]
    },
    {
      "cell_type": "code",
      "execution_count": null,
      "metadata": {
        "id": "iepgkweCdQsV",
        "colab": {
          "base_uri": "https://localhost:8080/"
        },
        "outputId": "b4147d9a-29fc-4b9e-d636-0d0c564804bd"
      },
      "outputs": [
        {
          "name": "stdout",
          "output_type": "stream",
          "text": [
            "Name your table: populations\n"
          ]
        }
      ],
      "source": [
        "# Connect to the database file\n",
        "conn = sqlite3.connect(f'{db_name}.db')\n",
        "\n",
        "# Specify table name\n",
        "table_name = input(\"Name your table: \")"
      ]
    },
    {
      "cell_type": "code",
      "source": [
        "# Create a new table\n",
        "conn.execute(f'''CREATE TABLE {table_name}\n",
        "                 (id TEXT PRIMARY KEY NOT NULL,\n",
        "                 population INT NOT NULL,\n",
        "                 median_age INT NOT NULL);''')\n",
        "\n",
        "# Confirmation message for table creation\n",
        "print(f'\\nTable: {table_name} successfully created.')\n",
        "\n",
        "# Write the DataFrame to a new table in the database\n",
        "df.to_sql(f'{table_name}',\n",
        "          conn,\n",
        "          if_exists='replace',\n",
        "          index=True)\n",
        "\n",
        "# Commit the changes to the database\n",
        "conn.commit()  ##### fill in blank\n",
        "\n",
        "# Close connection to the database\n",
        "conn.close()"
      ],
      "metadata": {
        "id": "WlzUcnKJQ0BR",
        "colab": {
          "base_uri": "https://localhost:8080/"
        },
        "outputId": "93f1c7ec-2791-4120-9409-7b313d604f79"
      },
      "execution_count": null,
      "outputs": [
        {
          "output_type": "stream",
          "name": "stdout",
          "text": [
            "\n",
            "Table: populations successfully created.\n"
          ]
        }
      ]
    },
    {
      "cell_type": "markdown",
      "metadata": {
        "id": "17jaEdhuyI1J"
      },
      "source": [
        "# Exercise 2: SQL"
      ]
    },
    {
      "cell_type": "markdown",
      "metadata": {
        "id": "xZ1Xl_iR7YPY"
      },
      "source": [
        "## Populations"
      ]
    },
    {
      "cell_type": "markdown",
      "source": [
        "### How to query"
      ],
      "metadata": {
        "id": "dCKEGEyNAgiO"
      }
    },
    {
      "cell_type": "code",
      "execution_count": null,
      "metadata": {
        "id": "vP-pEQgMwa2C"
      },
      "outputs": [],
      "source": [
        "# Create function to print query\n",
        "def print_query():\n",
        "\n",
        "  # Query the data from the database and load it into a DataFrame\n",
        "  output = pd.read_sql_query(SQL_STATEMENT,\n",
        "                             conn)\n",
        "  # Show SQL statement\n",
        "  print(f'SQL Statement:{SQL_STATEMENT}')\n",
        "\n",
        "  # Show output\n",
        "  return output"
      ]
    },
    {
      "cell_type": "markdown",
      "metadata": {
        "id": "Obo4KwefmNKn"
      },
      "source": [
        "#### Q2 | How many countries have a median age greater than 45 years?"
      ]
    },
    {
      "cell_type": "code",
      "execution_count": null,
      "metadata": {
        "id": "kD5XYX0MyiX7",
        "colab": {
          "base_uri": "https://localhost:8080/",
          "height": 363
        },
        "outputId": "6f378380-5554-4aba-ace7-9a4d361c65df"
      },
      "outputs": [
        {
          "output_type": "stream",
          "name": "stdout",
          "text": [
            "SQL Statement:\n",
            "\n",
            "SELECT *\n",
            "FROM populations \n",
            "WHERE median_age > 45;\n",
            "\n",
            "\n"
          ]
        },
        {
          "output_type": "execute_result",
          "data": {
            "text/plain": [
              "      country  population median_age\n",
              "0       Japan   126476461         48\n",
              "1     Germany    83783942         46\n",
              "2       Italy    60461826         47\n",
              "3      Greece    10423054         46\n",
              "4    Portugal    10196709         46\n",
              "5  Martinique      375265         47"
            ],
            "text/html": [
              "\n",
              "  <div id=\"df-d5372b73-bd3c-4e99-87c1-dba899aeec4f\">\n",
              "    <div class=\"colab-df-container\">\n",
              "      <div>\n",
              "<style scoped>\n",
              "    .dataframe tbody tr th:only-of-type {\n",
              "        vertical-align: middle;\n",
              "    }\n",
              "\n",
              "    .dataframe tbody tr th {\n",
              "        vertical-align: top;\n",
              "    }\n",
              "\n",
              "    .dataframe thead th {\n",
              "        text-align: right;\n",
              "    }\n",
              "</style>\n",
              "<table border=\"1\" class=\"dataframe\">\n",
              "  <thead>\n",
              "    <tr style=\"text-align: right;\">\n",
              "      <th></th>\n",
              "      <th>country</th>\n",
              "      <th>population</th>\n",
              "      <th>median_age</th>\n",
              "    </tr>\n",
              "  </thead>\n",
              "  <tbody>\n",
              "    <tr>\n",
              "      <th>0</th>\n",
              "      <td>Japan</td>\n",
              "      <td>126476461</td>\n",
              "      <td>48</td>\n",
              "    </tr>\n",
              "    <tr>\n",
              "      <th>1</th>\n",
              "      <td>Germany</td>\n",
              "      <td>83783942</td>\n",
              "      <td>46</td>\n",
              "    </tr>\n",
              "    <tr>\n",
              "      <th>2</th>\n",
              "      <td>Italy</td>\n",
              "      <td>60461826</td>\n",
              "      <td>47</td>\n",
              "    </tr>\n",
              "    <tr>\n",
              "      <th>3</th>\n",
              "      <td>Greece</td>\n",
              "      <td>10423054</td>\n",
              "      <td>46</td>\n",
              "    </tr>\n",
              "    <tr>\n",
              "      <th>4</th>\n",
              "      <td>Portugal</td>\n",
              "      <td>10196709</td>\n",
              "      <td>46</td>\n",
              "    </tr>\n",
              "    <tr>\n",
              "      <th>5</th>\n",
              "      <td>Martinique</td>\n",
              "      <td>375265</td>\n",
              "      <td>47</td>\n",
              "    </tr>\n",
              "  </tbody>\n",
              "</table>\n",
              "</div>\n",
              "      <button class=\"colab-df-convert\" onclick=\"convertToInteractive('df-d5372b73-bd3c-4e99-87c1-dba899aeec4f')\"\n",
              "              title=\"Convert this dataframe to an interactive table.\"\n",
              "              style=\"display:none;\">\n",
              "        \n",
              "  <svg xmlns=\"http://www.w3.org/2000/svg\" height=\"24px\"viewBox=\"0 0 24 24\"\n",
              "       width=\"24px\">\n",
              "    <path d=\"M0 0h24v24H0V0z\" fill=\"none\"/>\n",
              "    <path d=\"M18.56 5.44l.94 2.06.94-2.06 2.06-.94-2.06-.94-.94-2.06-.94 2.06-2.06.94zm-11 1L8.5 8.5l.94-2.06 2.06-.94-2.06-.94L8.5 2.5l-.94 2.06-2.06.94zm10 10l.94 2.06.94-2.06 2.06-.94-2.06-.94-.94-2.06-.94 2.06-2.06.94z\"/><path d=\"M17.41 7.96l-1.37-1.37c-.4-.4-.92-.59-1.43-.59-.52 0-1.04.2-1.43.59L10.3 9.45l-7.72 7.72c-.78.78-.78 2.05 0 2.83L4 21.41c.39.39.9.59 1.41.59.51 0 1.02-.2 1.41-.59l7.78-7.78 2.81-2.81c.8-.78.8-2.07 0-2.86zM5.41 20L4 18.59l7.72-7.72 1.47 1.35L5.41 20z\"/>\n",
              "  </svg>\n",
              "      </button>\n",
              "      \n",
              "  <style>\n",
              "    .colab-df-container {\n",
              "      display:flex;\n",
              "      flex-wrap:wrap;\n",
              "      gap: 12px;\n",
              "    }\n",
              "\n",
              "    .colab-df-convert {\n",
              "      background-color: #E8F0FE;\n",
              "      border: none;\n",
              "      border-radius: 50%;\n",
              "      cursor: pointer;\n",
              "      display: none;\n",
              "      fill: #1967D2;\n",
              "      height: 32px;\n",
              "      padding: 0 0 0 0;\n",
              "      width: 32px;\n",
              "    }\n",
              "\n",
              "    .colab-df-convert:hover {\n",
              "      background-color: #E2EBFA;\n",
              "      box-shadow: 0px 1px 2px rgba(60, 64, 67, 0.3), 0px 1px 3px 1px rgba(60, 64, 67, 0.15);\n",
              "      fill: #174EA6;\n",
              "    }\n",
              "\n",
              "    [theme=dark] .colab-df-convert {\n",
              "      background-color: #3B4455;\n",
              "      fill: #D2E3FC;\n",
              "    }\n",
              "\n",
              "    [theme=dark] .colab-df-convert:hover {\n",
              "      background-color: #434B5C;\n",
              "      box-shadow: 0px 1px 3px 1px rgba(0, 0, 0, 0.15);\n",
              "      filter: drop-shadow(0px 1px 2px rgba(0, 0, 0, 0.3));\n",
              "      fill: #FFFFFF;\n",
              "    }\n",
              "  </style>\n",
              "\n",
              "      <script>\n",
              "        const buttonEl =\n",
              "          document.querySelector('#df-d5372b73-bd3c-4e99-87c1-dba899aeec4f button.colab-df-convert');\n",
              "        buttonEl.style.display =\n",
              "          google.colab.kernel.accessAllowed ? 'block' : 'none';\n",
              "\n",
              "        async function convertToInteractive(key) {\n",
              "          const element = document.querySelector('#df-d5372b73-bd3c-4e99-87c1-dba899aeec4f');\n",
              "          const dataTable =\n",
              "            await google.colab.kernel.invokeFunction('convertToInteractive',\n",
              "                                                     [key], {});\n",
              "          if (!dataTable) return;\n",
              "\n",
              "          const docLinkHtml = 'Like what you see? Visit the ' +\n",
              "            '<a target=\"_blank\" href=https://colab.research.google.com/notebooks/data_table.ipynb>data table notebook</a>'\n",
              "            + ' to learn more about interactive tables.';\n",
              "          element.innerHTML = '';\n",
              "          dataTable['output_type'] = 'display_data';\n",
              "          await google.colab.output.renderOutput(dataTable, element);\n",
              "          const docLink = document.createElement('div');\n",
              "          docLink.innerHTML = docLinkHtml;\n",
              "          element.appendChild(docLink);\n",
              "        }\n",
              "      </script>\n",
              "    </div>\n",
              "  </div>\n",
              "  "
            ]
          },
          "metadata": {},
          "execution_count": 16
        }
      ],
      "source": [
        "# Connect to the database\n",
        "conn = sqlite3.connect(f'{db_name}.db')\n",
        "\n",
        "##### EDIT CODE BELOW\n",
        "\n",
        "# Create query statement\n",
        "SQL_STATEMENT = \"\"\"\n",
        "\n",
        "SELECT *\n",
        "FROM populations\n",
        "WHERE median_age > 45;\n",
        "\n",
        "\"\"\"\n",
        "\n",
        "##### EDIT CODE ABOVE\n",
        "\n",
        "# Print query\n",
        "print_query()"
      ]
    },
    {
      "cell_type": "code",
      "execution_count": null,
      "metadata": {
        "id": "xeoGcwAallgY",
        "colab": {
          "base_uri": "https://localhost:8080/"
        },
        "outputId": "9f7d5623-8fa2-4c4c-aaa4-68ecf2c1d762"
      },
      "outputs": [
        {
          "output_type": "stream",
          "name": "stdout",
          "text": [
            "How many countries have a median age greater than 45 years?\n",
            "6\n",
            "\n",
            "Correct!\n"
          ]
        }
      ],
      "source": [
        "# User response\n",
        "user_answer = str(input('How many countries have a median age greater than 45 years?\\n'))\n",
        "\n",
        "if user_answer == str(pd.read_csv('https://raw.githubusercontent.com/jordanlarot/de-event/main/answers.csv').iloc[357, 2]):\n",
        "  print('\\nCorrect!')\n",
        "else:\n",
        "  print('\\nIncorrect!')"
      ]
    },
    {
      "cell_type": "markdown",
      "metadata": {
        "id": "kpOZgTK3litq"
      },
      "source": [
        "#### Q3 | What is the median age of the Congo?"
      ]
    },
    {
      "cell_type": "code",
      "execution_count": null,
      "metadata": {
        "id": "aqIQAQ-Dom-i",
        "colab": {
          "base_uri": "https://localhost:8080/",
          "height": 206
        },
        "outputId": "b0cf59e8-8327-4bb7-8120-cec47468bb26"
      },
      "outputs": [
        {
          "output_type": "stream",
          "name": "stdout",
          "text": [
            "SQL Statement:\n",
            "\n",
            "SELECT median_age\n",
            "FROM populations\n",
            "WHERE country  == \"Congo\";\n",
            "\n",
            "\n"
          ]
        },
        {
          "output_type": "execute_result",
          "data": {
            "text/plain": [
              "  median_age\n",
              "0         19"
            ],
            "text/html": [
              "\n",
              "  <div id=\"df-5f859fe9-b40b-44ce-b05c-21784cefbf1c\">\n",
              "    <div class=\"colab-df-container\">\n",
              "      <div>\n",
              "<style scoped>\n",
              "    .dataframe tbody tr th:only-of-type {\n",
              "        vertical-align: middle;\n",
              "    }\n",
              "\n",
              "    .dataframe tbody tr th {\n",
              "        vertical-align: top;\n",
              "    }\n",
              "\n",
              "    .dataframe thead th {\n",
              "        text-align: right;\n",
              "    }\n",
              "</style>\n",
              "<table border=\"1\" class=\"dataframe\">\n",
              "  <thead>\n",
              "    <tr style=\"text-align: right;\">\n",
              "      <th></th>\n",
              "      <th>median_age</th>\n",
              "    </tr>\n",
              "  </thead>\n",
              "  <tbody>\n",
              "    <tr>\n",
              "      <th>0</th>\n",
              "      <td>19</td>\n",
              "    </tr>\n",
              "  </tbody>\n",
              "</table>\n",
              "</div>\n",
              "      <button class=\"colab-df-convert\" onclick=\"convertToInteractive('df-5f859fe9-b40b-44ce-b05c-21784cefbf1c')\"\n",
              "              title=\"Convert this dataframe to an interactive table.\"\n",
              "              style=\"display:none;\">\n",
              "        \n",
              "  <svg xmlns=\"http://www.w3.org/2000/svg\" height=\"24px\"viewBox=\"0 0 24 24\"\n",
              "       width=\"24px\">\n",
              "    <path d=\"M0 0h24v24H0V0z\" fill=\"none\"/>\n",
              "    <path d=\"M18.56 5.44l.94 2.06.94-2.06 2.06-.94-2.06-.94-.94-2.06-.94 2.06-2.06.94zm-11 1L8.5 8.5l.94-2.06 2.06-.94-2.06-.94L8.5 2.5l-.94 2.06-2.06.94zm10 10l.94 2.06.94-2.06 2.06-.94-2.06-.94-.94-2.06-.94 2.06-2.06.94z\"/><path d=\"M17.41 7.96l-1.37-1.37c-.4-.4-.92-.59-1.43-.59-.52 0-1.04.2-1.43.59L10.3 9.45l-7.72 7.72c-.78.78-.78 2.05 0 2.83L4 21.41c.39.39.9.59 1.41.59.51 0 1.02-.2 1.41-.59l7.78-7.78 2.81-2.81c.8-.78.8-2.07 0-2.86zM5.41 20L4 18.59l7.72-7.72 1.47 1.35L5.41 20z\"/>\n",
              "  </svg>\n",
              "      </button>\n",
              "      \n",
              "  <style>\n",
              "    .colab-df-container {\n",
              "      display:flex;\n",
              "      flex-wrap:wrap;\n",
              "      gap: 12px;\n",
              "    }\n",
              "\n",
              "    .colab-df-convert {\n",
              "      background-color: #E8F0FE;\n",
              "      border: none;\n",
              "      border-radius: 50%;\n",
              "      cursor: pointer;\n",
              "      display: none;\n",
              "      fill: #1967D2;\n",
              "      height: 32px;\n",
              "      padding: 0 0 0 0;\n",
              "      width: 32px;\n",
              "    }\n",
              "\n",
              "    .colab-df-convert:hover {\n",
              "      background-color: #E2EBFA;\n",
              "      box-shadow: 0px 1px 2px rgba(60, 64, 67, 0.3), 0px 1px 3px 1px rgba(60, 64, 67, 0.15);\n",
              "      fill: #174EA6;\n",
              "    }\n",
              "\n",
              "    [theme=dark] .colab-df-convert {\n",
              "      background-color: #3B4455;\n",
              "      fill: #D2E3FC;\n",
              "    }\n",
              "\n",
              "    [theme=dark] .colab-df-convert:hover {\n",
              "      background-color: #434B5C;\n",
              "      box-shadow: 0px 1px 3px 1px rgba(0, 0, 0, 0.15);\n",
              "      filter: drop-shadow(0px 1px 2px rgba(0, 0, 0, 0.3));\n",
              "      fill: #FFFFFF;\n",
              "    }\n",
              "  </style>\n",
              "\n",
              "      <script>\n",
              "        const buttonEl =\n",
              "          document.querySelector('#df-5f859fe9-b40b-44ce-b05c-21784cefbf1c button.colab-df-convert');\n",
              "        buttonEl.style.display =\n",
              "          google.colab.kernel.accessAllowed ? 'block' : 'none';\n",
              "\n",
              "        async function convertToInteractive(key) {\n",
              "          const element = document.querySelector('#df-5f859fe9-b40b-44ce-b05c-21784cefbf1c');\n",
              "          const dataTable =\n",
              "            await google.colab.kernel.invokeFunction('convertToInteractive',\n",
              "                                                     [key], {});\n",
              "          if (!dataTable) return;\n",
              "\n",
              "          const docLinkHtml = 'Like what you see? Visit the ' +\n",
              "            '<a target=\"_blank\" href=https://colab.research.google.com/notebooks/data_table.ipynb>data table notebook</a>'\n",
              "            + ' to learn more about interactive tables.';\n",
              "          element.innerHTML = '';\n",
              "          dataTable['output_type'] = 'display_data';\n",
              "          await google.colab.output.renderOutput(dataTable, element);\n",
              "          const docLink = document.createElement('div');\n",
              "          docLink.innerHTML = docLinkHtml;\n",
              "          element.appendChild(docLink);\n",
              "        }\n",
              "      </script>\n",
              "    </div>\n",
              "  </div>\n",
              "  "
            ]
          },
          "metadata": {},
          "execution_count": 32
        }
      ],
      "source": [
        "# Connect to the database\n",
        "conn = sqlite3.connect(f'{db_name}.db')\n",
        "\n",
        "##### EDIT CODE BELOW\n",
        "\n",
        "# Create query statement\n",
        "SQL_STATEMENT = \"\"\"\n",
        "\n",
        "SELECT median_age\n",
        "FROM populations\n",
        "WHERE country  == \"Congo\";\n",
        "\n",
        "\"\"\"\n",
        "\n",
        "##### EDIT CODE ABOVE\n",
        "\n",
        "# Print query\n",
        "print_query()"
      ]
    },
    {
      "cell_type": "code",
      "execution_count": null,
      "metadata": {
        "id": "1MhuRYsgky_a",
        "colab": {
          "base_uri": "https://localhost:8080/"
        },
        "outputId": "779ae544-54b4-4f0d-cd9f-e38d98c075c4"
      },
      "outputs": [
        {
          "output_type": "stream",
          "name": "stdout",
          "text": [
            "What is the median age of the Congo?\n",
            "19\n",
            "\n",
            "Correct!\n"
          ]
        }
      ],
      "source": [
        "# User response\n",
        "user_answer = str(input('What is the median age of the Congo?\\n'))\n",
        "\n",
        "if user_answer == str(pd.read_csv('https://raw.githubusercontent.com/jordanlarot/de-event/main/answers.csv').iloc[357, 3]):\n",
        "  print('\\nCorrect!')\n",
        "else:\n",
        "  print('\\nIncorrect!')"
      ]
    },
    {
      "cell_type": "markdown",
      "source": [
        "### How to join tables"
      ],
      "metadata": {
        "id": "eGKrq2FsJNDe"
      }
    },
    {
      "cell_type": "code",
      "source": [
        "# Specify urls\n",
        "gdp_url = 'https://www.worldometers.info/gdp/gdp-per-capita/'\n",
        "\n",
        "# Scrape website\n",
        "tables = pd.read_html(gdp_url)\n",
        "\n",
        "# Select the first element of tables\n",
        "gdp_df = tables[0]\n",
        "\n",
        "# Subset gdp_df\n",
        "gdp_df = gdp_df[['Country', 'GDP (PPP) per capita (2017)']]\n",
        "\n",
        "# Rename columns\n",
        "gdp_df = gdp_df.rename(columns={'Country': 'country',\n",
        "                                'GDP (PPP) per capita (2017)': 'gdp_per_capita'})\n",
        "\n",
        "# Set country as index\n",
        "gdp_df = gdp_df.set_index('country')\n",
        "\n",
        "# Preview raw data\n",
        "gdp_df.head()"
      ],
      "metadata": {
        "id": "w5nmUQLU9vnL",
        "colab": {
          "base_uri": "https://localhost:8080/",
          "height": 238
        },
        "outputId": "253dcd84-08f9-465d-f1a1-4ee31aa44fc6"
      },
      "execution_count": null,
      "outputs": [
        {
          "output_type": "execute_result",
          "data": {
            "text/plain": [
              "           gdp_per_capita\n",
              "country                  \n",
              "Qatar            $128,647\n",
              "Macao            $115,367\n",
              "Luxembourg       $107,641\n",
              "Singapore         $94,105\n",
              "Brunei            $79,003"
            ],
            "text/html": [
              "\n",
              "  <div id=\"df-5a78142b-6caa-4684-9765-2d5d09a6dd2e\">\n",
              "    <div class=\"colab-df-container\">\n",
              "      <div>\n",
              "<style scoped>\n",
              "    .dataframe tbody tr th:only-of-type {\n",
              "        vertical-align: middle;\n",
              "    }\n",
              "\n",
              "    .dataframe tbody tr th {\n",
              "        vertical-align: top;\n",
              "    }\n",
              "\n",
              "    .dataframe thead th {\n",
              "        text-align: right;\n",
              "    }\n",
              "</style>\n",
              "<table border=\"1\" class=\"dataframe\">\n",
              "  <thead>\n",
              "    <tr style=\"text-align: right;\">\n",
              "      <th></th>\n",
              "      <th>gdp_per_capita</th>\n",
              "    </tr>\n",
              "    <tr>\n",
              "      <th>country</th>\n",
              "      <th></th>\n",
              "    </tr>\n",
              "  </thead>\n",
              "  <tbody>\n",
              "    <tr>\n",
              "      <th>Qatar</th>\n",
              "      <td>$128,647</td>\n",
              "    </tr>\n",
              "    <tr>\n",
              "      <th>Macao</th>\n",
              "      <td>$115,367</td>\n",
              "    </tr>\n",
              "    <tr>\n",
              "      <th>Luxembourg</th>\n",
              "      <td>$107,641</td>\n",
              "    </tr>\n",
              "    <tr>\n",
              "      <th>Singapore</th>\n",
              "      <td>$94,105</td>\n",
              "    </tr>\n",
              "    <tr>\n",
              "      <th>Brunei</th>\n",
              "      <td>$79,003</td>\n",
              "    </tr>\n",
              "  </tbody>\n",
              "</table>\n",
              "</div>\n",
              "      <button class=\"colab-df-convert\" onclick=\"convertToInteractive('df-5a78142b-6caa-4684-9765-2d5d09a6dd2e')\"\n",
              "              title=\"Convert this dataframe to an interactive table.\"\n",
              "              style=\"display:none;\">\n",
              "        \n",
              "  <svg xmlns=\"http://www.w3.org/2000/svg\" height=\"24px\"viewBox=\"0 0 24 24\"\n",
              "       width=\"24px\">\n",
              "    <path d=\"M0 0h24v24H0V0z\" fill=\"none\"/>\n",
              "    <path d=\"M18.56 5.44l.94 2.06.94-2.06 2.06-.94-2.06-.94-.94-2.06-.94 2.06-2.06.94zm-11 1L8.5 8.5l.94-2.06 2.06-.94-2.06-.94L8.5 2.5l-.94 2.06-2.06.94zm10 10l.94 2.06.94-2.06 2.06-.94-2.06-.94-.94-2.06-.94 2.06-2.06.94z\"/><path d=\"M17.41 7.96l-1.37-1.37c-.4-.4-.92-.59-1.43-.59-.52 0-1.04.2-1.43.59L10.3 9.45l-7.72 7.72c-.78.78-.78 2.05 0 2.83L4 21.41c.39.39.9.59 1.41.59.51 0 1.02-.2 1.41-.59l7.78-7.78 2.81-2.81c.8-.78.8-2.07 0-2.86zM5.41 20L4 18.59l7.72-7.72 1.47 1.35L5.41 20z\"/>\n",
              "  </svg>\n",
              "      </button>\n",
              "      \n",
              "  <style>\n",
              "    .colab-df-container {\n",
              "      display:flex;\n",
              "      flex-wrap:wrap;\n",
              "      gap: 12px;\n",
              "    }\n",
              "\n",
              "    .colab-df-convert {\n",
              "      background-color: #E8F0FE;\n",
              "      border: none;\n",
              "      border-radius: 50%;\n",
              "      cursor: pointer;\n",
              "      display: none;\n",
              "      fill: #1967D2;\n",
              "      height: 32px;\n",
              "      padding: 0 0 0 0;\n",
              "      width: 32px;\n",
              "    }\n",
              "\n",
              "    .colab-df-convert:hover {\n",
              "      background-color: #E2EBFA;\n",
              "      box-shadow: 0px 1px 2px rgba(60, 64, 67, 0.3), 0px 1px 3px 1px rgba(60, 64, 67, 0.15);\n",
              "      fill: #174EA6;\n",
              "    }\n",
              "\n",
              "    [theme=dark] .colab-df-convert {\n",
              "      background-color: #3B4455;\n",
              "      fill: #D2E3FC;\n",
              "    }\n",
              "\n",
              "    [theme=dark] .colab-df-convert:hover {\n",
              "      background-color: #434B5C;\n",
              "      box-shadow: 0px 1px 3px 1px rgba(0, 0, 0, 0.15);\n",
              "      filter: drop-shadow(0px 1px 2px rgba(0, 0, 0, 0.3));\n",
              "      fill: #FFFFFF;\n",
              "    }\n",
              "  </style>\n",
              "\n",
              "      <script>\n",
              "        const buttonEl =\n",
              "          document.querySelector('#df-5a78142b-6caa-4684-9765-2d5d09a6dd2e button.colab-df-convert');\n",
              "        buttonEl.style.display =\n",
              "          google.colab.kernel.accessAllowed ? 'block' : 'none';\n",
              "\n",
              "        async function convertToInteractive(key) {\n",
              "          const element = document.querySelector('#df-5a78142b-6caa-4684-9765-2d5d09a6dd2e');\n",
              "          const dataTable =\n",
              "            await google.colab.kernel.invokeFunction('convertToInteractive',\n",
              "                                                     [key], {});\n",
              "          if (!dataTable) return;\n",
              "\n",
              "          const docLinkHtml = 'Like what you see? Visit the ' +\n",
              "            '<a target=\"_blank\" href=https://colab.research.google.com/notebooks/data_table.ipynb>data table notebook</a>'\n",
              "            + ' to learn more about interactive tables.';\n",
              "          element.innerHTML = '';\n",
              "          dataTable['output_type'] = 'display_data';\n",
              "          await google.colab.output.renderOutput(dataTable, element);\n",
              "          const docLink = document.createElement('div');\n",
              "          docLink.innerHTML = docLinkHtml;\n",
              "          element.appendChild(docLink);\n",
              "        }\n",
              "      </script>\n",
              "    </div>\n",
              "  </div>\n",
              "  "
            ]
          },
          "metadata": {},
          "execution_count": 34
        }
      ]
    },
    {
      "cell_type": "code",
      "source": [
        "# Create a connection to the database\n",
        "conn = sqlite3.connect(f'{db_name}.db')\n",
        "\n",
        "# Add dataframes as a table in the database\n",
        "gdp_df.to_sql('gdp',\n",
        "                 conn,\n",
        "                 if_exists='replace',\n",
        "                 index=True)\n",
        "\n",
        "# Commit the changes to the database\n",
        "conn.commit()\n",
        "\n",
        "# Close connection to the database\n",
        "conn.close()"
      ],
      "metadata": {
        "id": "nmS5mEi09q-E"
      },
      "execution_count": null,
      "outputs": []
    },
    {
      "cell_type": "markdown",
      "source": [
        "### Columns in each table\n",
        "populations:\n",
        "*   country\n",
        "*   population\n",
        "*   median_age\n",
        "\n",
        "gdp:\n",
        "*   country\n",
        "*   gdp_per_capita\n",
        "\n",
        "\n",
        "\n",
        "\n"
      ],
      "metadata": {
        "id": "SwkrHxvIqiZ2"
      }
    },
    {
      "cell_type": "markdown",
      "source": [
        "#### Q4 | What is the GDP per capita for the United States?"
      ],
      "metadata": {
        "id": "_TUygZDxG7oP"
      }
    },
    {
      "cell_type": "code",
      "source": [
        "# Connect to the database\n",
        "conn = sqlite3.connect(f'{db_name}.db')\n",
        "\n",
        "##### EDIT CODE BELOW\n",
        "\n",
        "# Create query statement\n",
        "SQL_STATEMENT = \"\"\"\n",
        "\n",
        "SELECT gdp_per_capita\n",
        "FROM populations\n",
        "WHERE country == \"United States\";\n",
        "\n",
        "\"\"\"\n",
        "\n",
        "##### EDIT CODE ABOVE\n",
        "\n",
        "# Print query\n",
        "print_query()"
      ],
      "metadata": {
        "id": "wMME98hCG0kw",
        "colab": {
          "base_uri": "https://localhost:8080/",
          "height": 550
        },
        "outputId": "b9477a4a-41ac-498a-b95a-96f62e987b60"
      },
      "execution_count": null,
      "outputs": [
        {
          "output_type": "error",
          "ename": "DatabaseError",
          "evalue": "ignored",
          "traceback": [
            "\u001b[0;31m---------------------------------------------------------------------------\u001b[0m",
            "\u001b[0;31mOperationalError\u001b[0m                          Traceback (most recent call last)",
            "\u001b[0;32m/usr/local/lib/python3.10/dist-packages/pandas/io/sql.py\u001b[0m in \u001b[0;36mexecute\u001b[0;34m(self, *args, **kwargs)\u001b[0m\n\u001b[1;32m   2017\u001b[0m         \u001b[0;32mtry\u001b[0m\u001b[0;34m:\u001b[0m\u001b[0;34m\u001b[0m\u001b[0;34m\u001b[0m\u001b[0m\n\u001b[0;32m-> 2018\u001b[0;31m             \u001b[0mcur\u001b[0m\u001b[0;34m.\u001b[0m\u001b[0mexecute\u001b[0m\u001b[0;34m(\u001b[0m\u001b[0;34m*\u001b[0m\u001b[0margs\u001b[0m\u001b[0;34m,\u001b[0m \u001b[0;34m**\u001b[0m\u001b[0mkwargs\u001b[0m\u001b[0;34m)\u001b[0m\u001b[0;34m\u001b[0m\u001b[0;34m\u001b[0m\u001b[0m\n\u001b[0m\u001b[1;32m   2019\u001b[0m             \u001b[0;32mreturn\u001b[0m \u001b[0mcur\u001b[0m\u001b[0;34m\u001b[0m\u001b[0;34m\u001b[0m\u001b[0m\n",
            "\u001b[0;31mOperationalError\u001b[0m: no such column: gdp_per_capita",
            "\nThe above exception was the direct cause of the following exception:\n",
            "\u001b[0;31mDatabaseError\u001b[0m                             Traceback (most recent call last)",
            "\u001b[0;32m<ipython-input-36-0370c8ca4bad>\u001b[0m in \u001b[0;36m<cell line: 18>\u001b[0;34m()\u001b[0m\n\u001b[1;32m     16\u001b[0m \u001b[0;34m\u001b[0m\u001b[0m\n\u001b[1;32m     17\u001b[0m \u001b[0;31m# Print query\u001b[0m\u001b[0;34m\u001b[0m\u001b[0;34m\u001b[0m\u001b[0m\n\u001b[0;32m---> 18\u001b[0;31m \u001b[0mprint_query\u001b[0m\u001b[0;34m(\u001b[0m\u001b[0;34m)\u001b[0m\u001b[0;34m\u001b[0m\u001b[0;34m\u001b[0m\u001b[0m\n\u001b[0m",
            "\u001b[0;32m<ipython-input-11-12af59b29ff7>\u001b[0m in \u001b[0;36mprint_query\u001b[0;34m()\u001b[0m\n\u001b[1;32m      3\u001b[0m \u001b[0;34m\u001b[0m\u001b[0m\n\u001b[1;32m      4\u001b[0m   \u001b[0;31m# Query the data from the database and load it into a DataFrame\u001b[0m\u001b[0;34m\u001b[0m\u001b[0;34m\u001b[0m\u001b[0m\n\u001b[0;32m----> 5\u001b[0;31m   output = pd.read_sql_query(SQL_STATEMENT, \n\u001b[0m\u001b[1;32m      6\u001b[0m                              conn)\n\u001b[1;32m      7\u001b[0m   \u001b[0;31m# Show SQL statement\u001b[0m\u001b[0;34m\u001b[0m\u001b[0;34m\u001b[0m\u001b[0m\n",
            "\u001b[0;32m/usr/local/lib/python3.10/dist-packages/pandas/io/sql.py\u001b[0m in \u001b[0;36mread_sql_query\u001b[0;34m(sql, con, index_col, coerce_float, params, parse_dates, chunksize, dtype)\u001b[0m\n\u001b[1;32m    395\u001b[0m     \"\"\"\n\u001b[1;32m    396\u001b[0m     \u001b[0mpandas_sql\u001b[0m \u001b[0;34m=\u001b[0m \u001b[0mpandasSQL_builder\u001b[0m\u001b[0;34m(\u001b[0m\u001b[0mcon\u001b[0m\u001b[0;34m)\u001b[0m\u001b[0;34m\u001b[0m\u001b[0;34m\u001b[0m\u001b[0m\n\u001b[0;32m--> 397\u001b[0;31m     return pandas_sql.read_query(\n\u001b[0m\u001b[1;32m    398\u001b[0m         \u001b[0msql\u001b[0m\u001b[0;34m,\u001b[0m\u001b[0;34m\u001b[0m\u001b[0;34m\u001b[0m\u001b[0m\n\u001b[1;32m    399\u001b[0m         \u001b[0mindex_col\u001b[0m\u001b[0;34m=\u001b[0m\u001b[0mindex_col\u001b[0m\u001b[0;34m,\u001b[0m\u001b[0;34m\u001b[0m\u001b[0;34m\u001b[0m\u001b[0m\n",
            "\u001b[0;32m/usr/local/lib/python3.10/dist-packages/pandas/io/sql.py\u001b[0m in \u001b[0;36mread_query\u001b[0;34m(self, sql, index_col, coerce_float, params, parse_dates, chunksize, dtype)\u001b[0m\n\u001b[1;32m   2076\u001b[0m \u001b[0;34m\u001b[0m\u001b[0m\n\u001b[1;32m   2077\u001b[0m         \u001b[0margs\u001b[0m \u001b[0;34m=\u001b[0m \u001b[0m_convert_params\u001b[0m\u001b[0;34m(\u001b[0m\u001b[0msql\u001b[0m\u001b[0;34m,\u001b[0m \u001b[0mparams\u001b[0m\u001b[0;34m)\u001b[0m\u001b[0;34m\u001b[0m\u001b[0;34m\u001b[0m\u001b[0m\n\u001b[0;32m-> 2078\u001b[0;31m         \u001b[0mcursor\u001b[0m \u001b[0;34m=\u001b[0m \u001b[0mself\u001b[0m\u001b[0;34m.\u001b[0m\u001b[0mexecute\u001b[0m\u001b[0;34m(\u001b[0m\u001b[0;34m*\u001b[0m\u001b[0margs\u001b[0m\u001b[0;34m)\u001b[0m\u001b[0;34m\u001b[0m\u001b[0;34m\u001b[0m\u001b[0m\n\u001b[0m\u001b[1;32m   2079\u001b[0m         \u001b[0mcolumns\u001b[0m \u001b[0;34m=\u001b[0m \u001b[0;34m[\u001b[0m\u001b[0mcol_desc\u001b[0m\u001b[0;34m[\u001b[0m\u001b[0;36m0\u001b[0m\u001b[0;34m]\u001b[0m \u001b[0;32mfor\u001b[0m \u001b[0mcol_desc\u001b[0m \u001b[0;32min\u001b[0m \u001b[0mcursor\u001b[0m\u001b[0;34m.\u001b[0m\u001b[0mdescription\u001b[0m\u001b[0;34m]\u001b[0m\u001b[0;34m\u001b[0m\u001b[0;34m\u001b[0m\u001b[0m\n\u001b[1;32m   2080\u001b[0m \u001b[0;34m\u001b[0m\u001b[0m\n",
            "\u001b[0;32m/usr/local/lib/python3.10/dist-packages/pandas/io/sql.py\u001b[0m in \u001b[0;36mexecute\u001b[0;34m(self, *args, **kwargs)\u001b[0m\n\u001b[1;32m   2028\u001b[0m \u001b[0;34m\u001b[0m\u001b[0m\n\u001b[1;32m   2029\u001b[0m             \u001b[0mex\u001b[0m \u001b[0;34m=\u001b[0m \u001b[0mDatabaseError\u001b[0m\u001b[0;34m(\u001b[0m\u001b[0;34mf\"Execution failed on sql '{args[0]}': {exc}\"\u001b[0m\u001b[0;34m)\u001b[0m\u001b[0;34m\u001b[0m\u001b[0;34m\u001b[0m\u001b[0m\n\u001b[0;32m-> 2030\u001b[0;31m             \u001b[0;32mraise\u001b[0m \u001b[0mex\u001b[0m \u001b[0;32mfrom\u001b[0m \u001b[0mexc\u001b[0m\u001b[0;34m\u001b[0m\u001b[0;34m\u001b[0m\u001b[0m\n\u001b[0m\u001b[1;32m   2031\u001b[0m \u001b[0;34m\u001b[0m\u001b[0m\n\u001b[1;32m   2032\u001b[0m     \u001b[0;34m@\u001b[0m\u001b[0mstaticmethod\u001b[0m\u001b[0;34m\u001b[0m\u001b[0;34m\u001b[0m\u001b[0m\n",
            "\u001b[0;31mDatabaseError\u001b[0m: Execution failed on sql '\n\nSELECT gdp_per_capita\nFROM populations\nWHERE country == \"United States\";\n\n': no such column: gdp_per_capita"
          ]
        }
      ]
    },
    {
      "cell_type": "code",
      "source": [
        "# User response\n",
        "user_answer = str(input('What is the GDP per capita for the United States? (do not put commas)\\n'))\n",
        "\n",
        "if user_answer == str(pd.read_csv('https://raw.githubusercontent.com/jordanlarot/de-event/main/answers.csv').iloc[357, 4]):\n",
        "  print('\\nCorrect!')\n",
        "else:\n",
        "  print('\\nIncorrect!')"
      ],
      "metadata": {
        "id": "FBfYrV6zG-tH"
      },
      "execution_count": null,
      "outputs": []
    },
    {
      "cell_type": "markdown",
      "metadata": {
        "id": "5lQKcftNsx8H"
      },
      "source": [
        "## People"
      ]
    },
    {
      "cell_type": "markdown",
      "metadata": {
        "id": "wpiISmjOs71u"
      },
      "source": [
        "### Storing data to database"
      ]
    },
    {
      "cell_type": "code",
      "execution_count": null,
      "metadata": {
        "id": "EUJoD5G_aKI6"
      },
      "outputs": [],
      "source": [
        "# Specify urls\n",
        "people_url = 'https://raw.githubusercontent.com/jordanlarot/de-event/main/people.csv'\n",
        "demographics_url = 'https://raw.githubusercontent.com/jordanlarot/de-event/main/demographics.csv'\n",
        "\n",
        "# Load files as dataframes\n",
        "people_df = pd.read_csv(people_url, index_col=0)\n",
        "demographics_df = pd.read_csv(demographics_url, index_col=0)"
      ]
    },
    {
      "cell_type": "code",
      "execution_count": null,
      "metadata": {
        "id": "2FBibvnRajOB"
      },
      "outputs": [],
      "source": [
        "# Create a connection to the database\n",
        "conn = sqlite3.connect('people.db')\n",
        "\n",
        "# Add dataframes as a table in the database\n",
        "people_df.to_sql('people',\n",
        "                 conn,\n",
        "                 if_exists='replace',\n",
        "                 index=True)\n",
        "\n",
        "demographics_df.to_sql('demographics',\n",
        "                       conn,\n",
        "                       if_exists='replace',\n",
        "                       index=True)\n",
        "\n",
        "# Commit the changes to the database\n",
        "conn.commit()\n",
        "\n",
        "# Close connection to the database\n",
        "conn.close()"
      ]
    },
    {
      "cell_type": "markdown",
      "metadata": {
        "id": "4ePWPQaMgOTb"
      },
      "source": [
        "### Columns in each table\n",
        "\n",
        "people:\n",
        "*   id\n",
        "*   first_name\n",
        "*   last_name\n",
        "*   email\n",
        "*   education\n",
        "*   occupation\n",
        "*   years_of_experience\n",
        "*   monthly_salary\n",
        "\n",
        "demographics:\n",
        "*   id\n",
        "*   gender\n",
        "*   age"
      ]
    },
    {
      "cell_type": "markdown",
      "metadata": {
        "id": "4LFUfy4wq59w"
      },
      "source": [
        "### Q5 | How many females are there?\n",
        "*You need to use COUNT() and WHERE*"
      ]
    },
    {
      "cell_type": "code",
      "execution_count": null,
      "metadata": {
        "id": "hdPi97ZCq5Un"
      },
      "outputs": [],
      "source": [
        "# Connect to the database\n",
        "conn = sqlite3.connect('people.db')\n",
        "\n",
        "##### EDIT CODE BELOW\n",
        "\n",
        "# Create query statement\n",
        "SQL_STATEMENT = \"\"\"\n",
        "\n",
        "\n",
        "\n",
        "\"\"\"\n",
        "\n",
        "##### EDIT CODE ABOVE\n",
        "\n",
        "# Print query\n",
        "print_query()"
      ]
    },
    {
      "cell_type": "code",
      "execution_count": null,
      "metadata": {
        "id": "uJhSc5PerTqz"
      },
      "outputs": [],
      "source": [
        "# User response\n",
        "user_answer = str(input('How many females are there?\\n'))\n",
        "\n",
        "if user_answer == str(pd.read_csv('https://raw.githubusercontent.com/jordanlarot/de-event/main/answers.csv').iloc[357, 5]):\n",
        "  print('\\nCorrect!')\n",
        "else:\n",
        "  print('\\nIncorrect!')"
      ]
    },
    {
      "cell_type": "markdown",
      "metadata": {
        "id": "YQklGXMzrqnB"
      },
      "source": [
        "### Q6 | What is the highest monthly salary?\n",
        "*You need to use MAX()*"
      ]
    },
    {
      "cell_type": "code",
      "execution_count": null,
      "metadata": {
        "id": "kz4fuNkjrz50"
      },
      "outputs": [],
      "source": [
        "# Connect to the database\n",
        "conn = sqlite3.connect('people.db')\n",
        "\n",
        "##### EDIT CODE BELOW\n",
        "\n",
        "# Create query statement\n",
        "SQL_STATEMENT = \"\"\"\n",
        "\n",
        "\n",
        "\n",
        "\"\"\"\n",
        "\n",
        "##### EDIT CODE ABOVE\n",
        "\n",
        "# Print query\n",
        "print_query()"
      ]
    },
    {
      "cell_type": "code",
      "execution_count": null,
      "metadata": {
        "id": "g2T9iJb7r1SF"
      },
      "outputs": [],
      "source": [
        "# User response\n",
        "user_answer = str(input('What is the highest monthly salary?\\n'))\n",
        "\n",
        "if user_answer == str(pd.read_csv('https://raw.githubusercontent.com/jordanlarot/de-event/main/answers.csv').iloc[357, 6]):\n",
        "  print('\\nCorrect!')\n",
        "else:\n",
        "  print('\\nIncorrect!')"
      ]
    },
    {
      "cell_type": "markdown",
      "metadata": {
        "id": "HzwaaFq5rgBN"
      },
      "source": [
        "### Columns in each table\n",
        "\n",
        "people:\n",
        "*   id\n",
        "*   first_name\n",
        "*   last_name\n",
        "*   email\n",
        "*   education\n",
        "*   occupation\n",
        "*   years_of_experience\n",
        "*   monthly_salary\n",
        "\n",
        "demographics:\n",
        "*   id\n",
        "*   gender\n",
        "*   age"
      ]
    },
    {
      "cell_type": "markdown",
      "metadata": {
        "id": "QDDoLzWVtgrP"
      },
      "source": [
        "### Q7 | What is the average years of experience for a person with a Master's degree?\n",
        "*You  need to use GROUP BY and AVG()* <br>\n",
        "*Example of GROUP BY:* <br>\n",
        "*SELECT column_name_1, column_name_2* <br>\n",
        "*FROM table* <br>\n",
        "*GROUP BY column_name_1;*"
      ]
    },
    {
      "cell_type": "code",
      "execution_count": null,
      "metadata": {
        "id": "7-nCC2IotmNZ"
      },
      "outputs": [],
      "source": [
        "# Connect to the database\n",
        "conn = sqlite3.connect('people.db')\n",
        "\n",
        "##### EDIT CODE BELOW\n",
        "\n",
        "# Create query statement\n",
        "SQL_STATEMENT = \"\"\"\n",
        "\n",
        "\n",
        "\n",
        "\"\"\"\n",
        "\n",
        "##### EDIT CODE ABOVE\n",
        "\n",
        "# Print query\n",
        "print_query()"
      ]
    },
    {
      "cell_type": "code",
      "source": [
        "# User response\n",
        "user_answer = str(input('What is the highest monthly salary?\\n'))\n",
        "\n",
        "if user_answer == str(pd.read_csv('https://raw.githubusercontent.com/jordanlarot/de-event/main/answers.csv').iloc[357, 7]):\n",
        "  print('\\nCorrect!')\n",
        "else:\n",
        "  print('\\nIncorrect!')"
      ],
      "metadata": {
        "id": "OmzszkYnKGBW"
      },
      "execution_count": null,
      "outputs": []
    },
    {
      "cell_type": "markdown",
      "metadata": {
        "id": "CEcsFepHiO_I"
      },
      "source": [
        "### Q8 | How old is Dr. Etu?\n",
        "*You need to join the two tables* <br>\n",
        "*look for last_name == 'Etu'*"
      ]
    },
    {
      "cell_type": "code",
      "execution_count": null,
      "metadata": {
        "id": "BnFpdeknqK7o"
      },
      "outputs": [],
      "source": [
        "# Connect to the database\n",
        "conn = sqlite3.connect('people.db')\n",
        "\n",
        "##### EDIT CODE BELOW\n",
        "\n",
        "# Create query statement\n",
        "SQL_STATEMENT = \"\"\"\n",
        "\n",
        "\n",
        "\n",
        "\"\"\"\n",
        "\n",
        "##### EDIT CODE ABOVE\n",
        "\n",
        "# Print query\n",
        "print_query()"
      ]
    },
    {
      "cell_type": "code",
      "execution_count": null,
      "metadata": {
        "id": "l4UYBf7PiQ4M"
      },
      "outputs": [],
      "source": [
        "# Run code and enter your answer\n",
        "user_answer = \"\"\n",
        "\n",
        "while user_answer != str(pd.read_csv('https://raw.githubusercontent.com/jordanlarot/de-event/main/answers.csv').iloc[357, 8]):\n",
        "  user_answer = str(input(\"How old is Dr. Etu?\\n\"))\n",
        "\n",
        "  if user_answer == str(pd.read_csv('https://raw.githubusercontent.com/jordanlarot/de-event/main/answers.csv').iloc[357, 8]):\n",
        "    print(f\"\\nYes! Dr. Etu is {str(pd.read_csv('https://raw.githubusercontent.com/jordanlarot/de-event/main/answers.csv').iloc[357, 8])}!\")\n",
        "    break\n",
        "  else:\n",
        "    print(f'\\nNo! Dr. Etu is not {user_answer}!\\n')"
      ]
    }
  ],
  "metadata": {
    "colab": {
      "provenance": []
    },
    "kernelspec": {
      "display_name": "Python 3",
      "name": "python3"
    },
    "language_info": {
      "name": "python"
    }
  },
  "nbformat": 4,
  "nbformat_minor": 0
}