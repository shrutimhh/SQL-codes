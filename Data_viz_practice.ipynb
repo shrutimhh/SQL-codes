{
  "nbformat": 4,
  "nbformat_minor": 0,
  "metadata": {
    "colab": {
      "provenance": [],
      "authorship_tag": "ABX9TyOUAHW5ZHX2M9eTFVcNkwPV"
    },
    "kernelspec": {
      "name": "python3",
      "display_name": "Python 3"
    },
    "language_info": {
      "name": "python"
    }
  },
  "cells": [
    {
      "cell_type": "markdown",
      "source": [],
      "metadata": {
        "id": "PRMnLwHlPW4y"
      }
    },
    {
      "cell_type": "code",
      "execution_count": null,
      "metadata": {
        "id": "7evsq5joO8bR"
      },
      "outputs": [],
      "source": [
        "# import the packages\n",
        "from sqlalchemy import create_engine\n",
        "import sqlite3"
      ]
    },
    {
      "cell_type": "code",
      "source": [
        "from google.colab import drive\n",
        "drive.mount('/content/drive')"
      ],
      "metadata": {
        "id": "DQt74RvXPpsK",
        "colab": {
          "base_uri": "https://localhost:8080/"
        },
        "outputId": "801a575c-0048-4631-dad2-5292af37af12"
      },
      "execution_count": null,
      "outputs": [
        {
          "output_type": "stream",
          "name": "stdout",
          "text": [
            "Drive already mounted at /content/drive; to attempt to forcibly remount, call drive.mount(\"/content/drive\", force_remount=True).\n"
          ]
        }
      ]
    },
    {
      "cell_type": "code",
      "source": [
        "# create database\n",
        "# connect to an SQllite database named \"testDB.db\"\n",
        "# if db doesn't exist, SQLlite will create it\n",
        "database_path = \"/content/drive/MyDrive/db/testDB.db\"\n",
        "conn = sqlite3.connect(database_path)\n",
        "cursor = conn.cursor()"
      ],
      "metadata": {
        "id": "XfiNbYGqP1Q1"
      },
      "execution_count": null,
      "outputs": []
    },
    {
      "cell_type": "code",
      "source": [
        "# create the new table called \"Products\"\n",
        "create_table_query = \"\"\"\n",
        "CREATE TABLE IF NOT EXISTS Products (\n",
        "  ProductID INTEGER PRIMARY KEY,\n",
        "  ProductName TEXT NOT NULL,\n",
        "  SupplierID INTEGER NOT NULL,\n",
        "  CategoryID INTEGER NOT NULL,\n",
        "  Unit TEXT NOT NULL,\n",
        "  Price INTEGER\n",
        ");\n",
        "\"\"\"\n",
        "\n",
        "cursor.execute(create_table_query)\n",
        "conn.commit() #commit the changes\n",
        "conn.close()"
      ],
      "metadata": {
        "id": "byvI7_apQlDh"
      },
      "execution_count": null,
      "outputs": []
    },
    {
      "cell_type": "code",
      "source": [
        "# load the sql extension\n",
        "%load_ext sql"
      ],
      "metadata": {
        "id": "6HaXAH7sRk6g"
      },
      "execution_count": null,
      "outputs": []
    },
    {
      "cell_type": "code",
      "source": [
        "# connecting to the database using SQL magic for further operations\n",
        "%sql sqlite:////content/drive/MyDrive/db/testDB.db"
      ],
      "metadata": {
        "id": "WwKbimGxRoKk"
      },
      "execution_count": null,
      "outputs": []
    },
    {
      "cell_type": "code",
      "source": [
        "#insert the values int othe newly created table\n",
        "%%sql\n",
        "INSERT INTO Products (ProductID, ProductName, SupplierID, CategoryID, Unit, Price) VALUES\n",
        "(1, 'Chais', 1, 1, '10 boxes x 20 bags', 18),\n",
        "(2, 'Chang', 1, 1, '24 - 12 ox bottles', 19),\n",
        "(3, 'Aniseed Syrup', 1, 2, '12 - 550 ml bottles', 10),\n",
        "(4, 'Chef Anton''s Cajun Season', 2, 2, '48 - 6 oz jars', 22),\n",
        "(5, 'Chef Anton''s Gumbo Mix', 2, 2, '36 boxes', 21.35 );"
      ],
      "metadata": {
        "id": "SHL3DH0fRzHy",
        "colab": {
          "base_uri": "https://localhost:8080/"
        },
        "outputId": "394a5206-e2d2-410f-819d-8d02804dc6dc"
      },
      "execution_count": null,
      "outputs": [
        {
          "output_type": "stream",
          "name": "stdout",
          "text": [
            " * sqlite:////content/drive/MyDrive/db/testDB.db\n",
            "5 rows affected.\n"
          ]
        },
        {
          "output_type": "execute_result",
          "data": {
            "text/plain": [
              "[]"
            ]
          },
          "metadata": {},
          "execution_count": 7
        }
      ]
    },
    {
      "cell_type": "code",
      "source": [
        "# view the new table with values\n",
        "%%sql\n",
        "SELECT *\n",
        "FROM Products;"
      ],
      "metadata": {
        "id": "MyDyRBGCS9KG",
        "colab": {
          "base_uri": "https://localhost:8080/",
          "height": 183
        },
        "outputId": "03565ad6-d7df-49c7-ca24-326f6e1419c6"
      },
      "execution_count": null,
      "outputs": [
        {
          "output_type": "stream",
          "name": "stdout",
          "text": [
            " * sqlite:////content/drive/MyDrive/db/testDB.db\n",
            "Done.\n"
          ]
        },
        {
          "output_type": "execute_result",
          "data": {
            "text/plain": [
              "[(1, 'Chais', 1, 1, '10 boxes x 20 bags', 18),\n",
              " (2, 'Chang', 1, 1, '24 - 12 ox bottles', 19),\n",
              " (3, 'Aniseed Syrup', 1, 2, '12 - 550 ml bottles', 10),\n",
              " (4, \"Chef Anton's Cajun Season\", 2, 2, '48 - 6 oz jars', 22),\n",
              " (5, \"Chef Anton's Gumbo Mix\", 2, 2, '36 boxes', 21.35)]"
            ],
            "text/html": [
              "<table>\n",
              "    <thead>\n",
              "        <tr>\n",
              "            <th>ProductID</th>\n",
              "            <th>ProductName</th>\n",
              "            <th>SupplierID</th>\n",
              "            <th>CategoryID</th>\n",
              "            <th>Unit</th>\n",
              "            <th>Price</th>\n",
              "        </tr>\n",
              "    </thead>\n",
              "    <tbody>\n",
              "        <tr>\n",
              "            <td>1</td>\n",
              "            <td>Chais</td>\n",
              "            <td>1</td>\n",
              "            <td>1</td>\n",
              "            <td>10 boxes x 20 bags</td>\n",
              "            <td>18</td>\n",
              "        </tr>\n",
              "        <tr>\n",
              "            <td>2</td>\n",
              "            <td>Chang</td>\n",
              "            <td>1</td>\n",
              "            <td>1</td>\n",
              "            <td>24 - 12 ox bottles</td>\n",
              "            <td>19</td>\n",
              "        </tr>\n",
              "        <tr>\n",
              "            <td>3</td>\n",
              "            <td>Aniseed Syrup</td>\n",
              "            <td>1</td>\n",
              "            <td>2</td>\n",
              "            <td>12 - 550 ml bottles</td>\n",
              "            <td>10</td>\n",
              "        </tr>\n",
              "        <tr>\n",
              "            <td>4</td>\n",
              "            <td>Chef Anton&#x27;s Cajun Season</td>\n",
              "            <td>2</td>\n",
              "            <td>2</td>\n",
              "            <td>48 - 6 oz jars</td>\n",
              "            <td>22</td>\n",
              "        </tr>\n",
              "        <tr>\n",
              "            <td>5</td>\n",
              "            <td>Chef Anton&#x27;s Gumbo Mix</td>\n",
              "            <td>2</td>\n",
              "            <td>2</td>\n",
              "            <td>36 boxes</td>\n",
              "            <td>21.35</td>\n",
              "        </tr>\n",
              "    </tbody>\n",
              "</table>"
            ]
          },
          "metadata": {},
          "execution_count": 8
        }
      ]
    },
    {
      "cell_type": "code",
      "source": [
        "%%sql\n",
        "-- Find average price of all products\n",
        "-- 18.07\n",
        "SELECT AVG(Price)\n",
        "FROM Products;"
      ],
      "metadata": {
        "colab": {
          "base_uri": "https://localhost:8080/",
          "height": 97
        },
        "id": "DoY5iIatyCdx",
        "outputId": "f8f25f46-9b37-4f43-cede-f6fd85eb9a2b"
      },
      "execution_count": null,
      "outputs": [
        {
          "output_type": "stream",
          "name": "stdout",
          "text": [
            " * sqlite:////content/drive/MyDrive/db/testDB.db\n",
            "Done.\n"
          ]
        },
        {
          "output_type": "execute_result",
          "data": {
            "text/plain": [
              "[(18.07,)]"
            ],
            "text/html": [
              "<table>\n",
              "    <thead>\n",
              "        <tr>\n",
              "            <th>AVG(Price)</th>\n",
              "        </tr>\n",
              "    </thead>\n",
              "    <tbody>\n",
              "        <tr>\n",
              "            <td>18.07</td>\n",
              "        </tr>\n",
              "    </tbody>\n",
              "</table>"
            ]
          },
          "metadata": {},
          "execution_count": 10
        }
      ]
    },
    {
      "cell_type": "code",
      "source": [
        "%%sql\n",
        "-- find the average proce of products in category 2\n",
        "-- 17.78\n",
        "SELECT AVG(Price)\n",
        "FROM Products\n",
        "WHERE CategoryID = 2;"
      ],
      "metadata": {
        "colab": {
          "base_uri": "https://localhost:8080/",
          "height": 97
        },
        "id": "vSeI2atzydhc",
        "outputId": "bf7d4be7-1a22-4321-a246-a2c8e97cd82e"
      },
      "execution_count": null,
      "outputs": [
        {
          "output_type": "stream",
          "name": "stdout",
          "text": [
            " * sqlite:////content/drive/MyDrive/db/testDB.db\n",
            "Done.\n"
          ]
        },
        {
          "output_type": "execute_result",
          "data": {
            "text/plain": [
              "[(17.783333333333335,)]"
            ],
            "text/html": [
              "<table>\n",
              "    <thead>\n",
              "        <tr>\n",
              "            <th>AVG(Price)</th>\n",
              "        </tr>\n",
              "    </thead>\n",
              "    <tbody>\n",
              "        <tr>\n",
              "            <td>17.783333333333335</td>\n",
              "        </tr>\n",
              "    </tbody>\n",
              "</table>"
            ]
          },
          "metadata": {},
          "execution_count": 11
        }
      ]
    },
    {
      "cell_type": "code",
      "source": [
        "%%sql\n",
        "-- find the total number of products in the products table\n",
        "--doesn't ignore null values in a row, 5 producgts in the products table\n",
        "SELECT COUNT(*)\n",
        "FROM Products;"
      ],
      "metadata": {
        "colab": {
          "base_uri": "https://localhost:8080/",
          "height": 97
        },
        "id": "vJw7RRdyzQhw",
        "outputId": "fd88522f-8cc4-4841-9866-681fd939a01b"
      },
      "execution_count": null,
      "outputs": [
        {
          "output_type": "stream",
          "name": "stdout",
          "text": [
            " * sqlite:////content/drive/MyDrive/db/testDB.db\n",
            "Done.\n"
          ]
        },
        {
          "output_type": "execute_result",
          "data": {
            "text/plain": [
              "[(5,)]"
            ],
            "text/html": [
              "<table>\n",
              "    <thead>\n",
              "        <tr>\n",
              "            <th>COUNT(*)</th>\n",
              "        </tr>\n",
              "    </thead>\n",
              "    <tbody>\n",
              "        <tr>\n",
              "            <td>5</td>\n",
              "        </tr>\n",
              "    </tbody>\n",
              "</table>"
            ]
          },
          "metadata": {},
          "execution_count": 12
        }
      ]
    },
    {
      "cell_type": "code",
      "source": [
        "%%sql\n",
        "-- find the number of products were price in >= 19\n",
        "-- doesn't ignore null, 3 products\n",
        "SELECT COUNT(ProductID)\n",
        "FROM Products\n",
        "WHERE Price >= 19;"
      ],
      "metadata": {
        "colab": {
          "base_uri": "https://localhost:8080/",
          "height": 97
        },
        "id": "hxBBkB1J1Mq-",
        "outputId": "485a5488-3756-4558-ad2f-ed9f4204e212"
      },
      "execution_count": null,
      "outputs": [
        {
          "output_type": "stream",
          "name": "stdout",
          "text": [
            " * sqlite:////content/drive/MyDrive/db/testDB.db\n",
            "Done.\n"
          ]
        },
        {
          "output_type": "execute_result",
          "data": {
            "text/plain": [
              "[(3,)]"
            ],
            "text/html": [
              "<table>\n",
              "    <thead>\n",
              "        <tr>\n",
              "            <th>COUNT(ProductID)</th>\n",
              "        </tr>\n",
              "    </thead>\n",
              "    <tbody>\n",
              "        <tr>\n",
              "            <td>3</td>\n",
              "        </tr>\n",
              "    </tbody>\n",
              "</table>"
            ]
          },
          "metadata": {},
          "execution_count": 13
        }
      ]
    },
    {
      "cell_type": "code",
      "source": [
        "%%sql\n",
        "-- what is the lowest price, 10\n",
        "SELECT MIN(Price)\n",
        "FROM Products;"
      ],
      "metadata": {
        "colab": {
          "base_uri": "https://localhost:8080/",
          "height": 97
        },
        "id": "MOVZbd3l1hCP",
        "outputId": "32fb49b9-1540-47c4-9eb2-92a93f75e942"
      },
      "execution_count": null,
      "outputs": [
        {
          "output_type": "stream",
          "name": "stdout",
          "text": [
            " * sqlite:////content/drive/MyDrive/db/testDB.db\n",
            "Done.\n"
          ]
        },
        {
          "output_type": "execute_result",
          "data": {
            "text/plain": [
              "[(10,)]"
            ],
            "text/html": [
              "<table>\n",
              "    <thead>\n",
              "        <tr>\n",
              "            <th>MIN(Price)</th>\n",
              "        </tr>\n",
              "    </thead>\n",
              "    <tbody>\n",
              "        <tr>\n",
              "            <td>10</td>\n",
              "        </tr>\n",
              "    </tbody>\n",
              "</table>"
            ]
          },
          "metadata": {},
          "execution_count": 14
        }
      ]
    },
    {
      "cell_type": "code",
      "source": [
        "%%sql\n",
        "-- what is the total price of all the items in the products table, 90.35\n",
        "SELECT SUM(Price)\n",
        "FROM Products;"
      ],
      "metadata": {
        "colab": {
          "base_uri": "https://localhost:8080/",
          "height": 97
        },
        "id": "k_cg10Tn2BKg",
        "outputId": "d1eca204-26d2-41e2-ff9c-29fb3239bf73"
      },
      "execution_count": null,
      "outputs": [
        {
          "output_type": "stream",
          "name": "stdout",
          "text": [
            " * sqlite:////content/drive/MyDrive/db/testDB.db\n",
            "Done.\n"
          ]
        },
        {
          "output_type": "execute_result",
          "data": {
            "text/plain": [
              "[(90.35,)]"
            ],
            "text/html": [
              "<table>\n",
              "    <thead>\n",
              "        <tr>\n",
              "            <th>SUM(Price)</th>\n",
              "        </tr>\n",
              "    </thead>\n",
              "    <tbody>\n",
              "        <tr>\n",
              "            <td>90.35</td>\n",
              "        </tr>\n",
              "    </tbody>\n",
              "</table>"
            ]
          },
          "metadata": {},
          "execution_count": 16
        }
      ]
    }
  ]
}